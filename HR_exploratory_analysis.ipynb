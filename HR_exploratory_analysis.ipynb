{
 "cells": [
  {
   "cell_type": "markdown",
   "metadata": {},
   "source": [
    "## Heavy Residue in Building 77 ##"
   ]
  },
  {
   "cell_type": "markdown",
   "metadata": {},
   "source": [
    "The data about Heavy Residue (henceforth HR) contains information about the weight of each material class found in each unit(context). For the purpose of this analysis, all three fractions (4mm, 2mm and 1mm) were combined. The weights were standardized, and the values represent total weight of each material, dividied by the number of litres of soil. The data was exported from the Heavy Residue Database. \n"
   ]
  },
  {
   "cell_type": "markdown",
   "metadata": {},
   "source": [
    "**Importing necessary libraries**"
   ]
  },
  {
   "cell_type": "code",
   "execution_count": 75,
   "metadata": {},
   "outputs": [],
   "source": [
    "import pandas as pd\n",
    "import numpy as np\n",
    "import seaborn as sns\n",
    "import matplotlib.pyplot as plt\n",
    "\n",
    "sns.set()"
   ]
  },
  {
   "cell_type": "markdown",
   "metadata": {},
   "source": [
    "### 1 Inspecting Data"
   ]
  },
  {
   "cell_type": "code",
   "execution_count": 76,
   "metadata": {},
   "outputs": [],
   "source": [
    "#importing data\n",
    "df = pd.read_csv('Building77.csv')"
   ]
  },
  {
   "cell_type": "code",
   "execution_count": 77,
   "metadata": {},
   "outputs": [
    {
     "data": {
      "text/plain": [
       "(308, 31)"
      ]
     },
     "execution_count": 77,
     "metadata": {},
     "output_type": "execute_result"
    }
   ],
   "source": [
    "#Checking the number of records. The dataframe contains 308 records and 31 columns.\n",
    "df.shape"
   ]
  },
  {
   "cell_type": "code",
   "execution_count": 78,
   "metadata": {},
   "outputs": [
    {
     "data": {
      "text/plain": [
       "Index(['UNIT', 'Sample', 'Flot Number', 'GID', 'Sum of Flot Volume',\n",
       "       'Clay Ball', 'Figurine', 'Clay Object', 'Shaped Clay', 'Pottery',\n",
       "       'Stone', 'Worked Bone', 'Worked Stone', 'Beads ', 'Plant ', 'Bone ',\n",
       "       'Mollusc ', 'Eggshell ', 'Obsidian ', 'Flint', 'Mound', 'Area',\n",
       "       'Building', 'Space', 'Feature', 'DataCategory', 'Location',\n",
       "       'Description', 'context', 'context subtype', 'Occ Phase'],\n",
       "      dtype='object')"
      ]
     },
     "execution_count": 78,
     "metadata": {},
     "output_type": "execute_result"
    }
   ],
   "source": [
    "#Checking the information stored in each column\n",
    "df.columns"
   ]
  },
  {
   "cell_type": "code",
   "execution_count": 79,
   "metadata": {},
   "outputs": [
    {
     "data": {
      "text/plain": [
       "Index(['UNIT', 'Sample', 'FlotNumber', 'GID', 'SumofFlotVolume', 'ClayBall',\n",
       "       'Figurine', 'ClayObject', 'ShapedClay', 'Pottery', 'Stone',\n",
       "       'WorkedBone', 'WorkedStone', 'Beads', 'Plant', 'Bone', 'Mollusc',\n",
       "       'Eggshell', 'Obsidian', 'Flint', 'Mound', 'Area', 'Building', 'Space',\n",
       "       'Feature', 'DataCategory', 'Location', 'Description', 'context',\n",
       "       'contextsubtype', 'OccPhase'],\n",
       "      dtype='object')"
      ]
     },
     "execution_count": 79,
     "metadata": {},
     "output_type": "execute_result"
    }
   ],
   "source": [
    "#removing blank spaces from column names\n",
    "df = df.rename(columns =lambda x: x.replace(' ',''))\n",
    "\n",
    "df.columns"
   ]
  },
  {
   "cell_type": "code",
   "execution_count": 80,
   "metadata": {},
   "outputs": [
    {
     "data": {
      "text/html": [
       "<div>\n",
       "<style scoped>\n",
       "    .dataframe tbody tr th:only-of-type {\n",
       "        vertical-align: middle;\n",
       "    }\n",
       "\n",
       "    .dataframe tbody tr th {\n",
       "        vertical-align: top;\n",
       "    }\n",
       "\n",
       "    .dataframe thead th {\n",
       "        text-align: right;\n",
       "    }\n",
       "</style>\n",
       "<table border=\"1\" class=\"dataframe\">\n",
       "  <thead>\n",
       "    <tr style=\"text-align: right;\">\n",
       "      <th></th>\n",
       "      <th>UNIT</th>\n",
       "      <th>Sample</th>\n",
       "      <th>FlotNumber</th>\n",
       "      <th>GID</th>\n",
       "      <th>SumofFlotVolume</th>\n",
       "      <th>ClayBall</th>\n",
       "      <th>Figurine</th>\n",
       "      <th>ClayObject</th>\n",
       "      <th>ShapedClay</th>\n",
       "      <th>Pottery</th>\n",
       "      <th>...</th>\n",
       "      <th>Area</th>\n",
       "      <th>Building</th>\n",
       "      <th>Space</th>\n",
       "      <th>Feature</th>\n",
       "      <th>DataCategory</th>\n",
       "      <th>Location</th>\n",
       "      <th>Description</th>\n",
       "      <th>context</th>\n",
       "      <th>contextsubtype</th>\n",
       "      <th>OccPhase</th>\n",
       "    </tr>\n",
       "  </thead>\n",
       "  <tbody>\n",
       "    <tr>\n",
       "      <th>0</th>\n",
       "      <td>22092</td>\n",
       "      <td>2</td>\n",
       "      <td>11429</td>\n",
       "      <td>22092.2.11429</td>\n",
       "      <td>5.0</td>\n",
       "      <td>NaN</td>\n",
       "      <td>NaN</td>\n",
       "      <td>NaN</td>\n",
       "      <td>NaN</td>\n",
       "      <td>NaN</td>\n",
       "      <td>...</td>\n",
       "      <td>North</td>\n",
       "      <td>77</td>\n",
       "      <td>,336,</td>\n",
       "      <td>NaN</td>\n",
       "      <td>activity</td>\n",
       "      <td>NaN</td>\n",
       "      <td>fire spots (non-structured)</td>\n",
       "      <td>activity</td>\n",
       "      <td>activity</td>\n",
       "      <td>B77.1.A</td>\n",
       "    </tr>\n",
       "    <tr>\n",
       "      <th>1</th>\n",
       "      <td>19008</td>\n",
       "      <td>2</td>\n",
       "      <td>9196</td>\n",
       "      <td>19008.2.9196</td>\n",
       "      <td>20.0</td>\n",
       "      <td>NaN</td>\n",
       "      <td>NaN</td>\n",
       "      <td>NaN</td>\n",
       "      <td>NaN</td>\n",
       "      <td>NaN</td>\n",
       "      <td>...</td>\n",
       "      <td>North</td>\n",
       "      <td>77</td>\n",
       "      <td>,336,</td>\n",
       "      <td>,6052,</td>\n",
       "      <td>fill</td>\n",
       "      <td>cut</td>\n",
       "      <td>burial</td>\n",
       "      <td>burial fill</td>\n",
       "      <td>burial fill</td>\n",
       "      <td>B77.6</td>\n",
       "    </tr>\n",
       "    <tr>\n",
       "      <th>2</th>\n",
       "      <td>19021</td>\n",
       "      <td>2</td>\n",
       "      <td>9222</td>\n",
       "      <td>19021.2.9222</td>\n",
       "      <td>28.0</td>\n",
       "      <td>NaN</td>\n",
       "      <td>NaN</td>\n",
       "      <td>NaN</td>\n",
       "      <td>NaN</td>\n",
       "      <td>NaN</td>\n",
       "      <td>...</td>\n",
       "      <td>North</td>\n",
       "      <td>77</td>\n",
       "      <td>,336,</td>\n",
       "      <td>,3601,</td>\n",
       "      <td>fill</td>\n",
       "      <td>cut</td>\n",
       "      <td>burial</td>\n",
       "      <td>burial fill</td>\n",
       "      <td>burial fill</td>\n",
       "      <td>B77.6</td>\n",
       "    </tr>\n",
       "    <tr>\n",
       "      <th>3</th>\n",
       "      <td>19044</td>\n",
       "      <td>2</td>\n",
       "      <td>9229</td>\n",
       "      <td>19044.2.9229</td>\n",
       "      <td>32.0</td>\n",
       "      <td>NaN</td>\n",
       "      <td>NaN</td>\n",
       "      <td>NaN</td>\n",
       "      <td>NaN</td>\n",
       "      <td>0.226875</td>\n",
       "      <td>...</td>\n",
       "      <td>North</td>\n",
       "      <td>77</td>\n",
       "      <td>,336,</td>\n",
       "      <td>,3600,</td>\n",
       "      <td>fill</td>\n",
       "      <td>cut</td>\n",
       "      <td>burial</td>\n",
       "      <td>burial fill</td>\n",
       "      <td>burial fill</td>\n",
       "      <td>B77.6</td>\n",
       "    </tr>\n",
       "    <tr>\n",
       "      <th>4</th>\n",
       "      <td>19295</td>\n",
       "      <td>2</td>\n",
       "      <td>9520</td>\n",
       "      <td>19295.2.9520</td>\n",
       "      <td>36.0</td>\n",
       "      <td>NaN</td>\n",
       "      <td>NaN</td>\n",
       "      <td>NaN</td>\n",
       "      <td>NaN</td>\n",
       "      <td>NaN</td>\n",
       "      <td>...</td>\n",
       "      <td>North</td>\n",
       "      <td>77</td>\n",
       "      <td>,336,</td>\n",
       "      <td>,3615,</td>\n",
       "      <td>fill</td>\n",
       "      <td>cut</td>\n",
       "      <td>burial</td>\n",
       "      <td>burial fill</td>\n",
       "      <td>burial fill</td>\n",
       "      <td>B77.7</td>\n",
       "    </tr>\n",
       "  </tbody>\n",
       "</table>\n",
       "<p>5 rows × 31 columns</p>\n",
       "</div>"
      ],
      "text/plain": [
       "    UNIT  Sample  FlotNumber            GID  SumofFlotVolume  ClayBall  \\\n",
       "0  22092       2       11429  22092.2.11429              5.0       NaN   \n",
       "1  19008       2        9196   19008.2.9196             20.0       NaN   \n",
       "2  19021       2        9222   19021.2.9222             28.0       NaN   \n",
       "3  19044       2        9229   19044.2.9229             32.0       NaN   \n",
       "4  19295       2        9520   19295.2.9520             36.0       NaN   \n",
       "\n",
       "   Figurine  ClayObject  ShapedClay   Pottery  ...   Area  Building  Space  \\\n",
       "0       NaN         NaN         NaN       NaN  ...  North        77  ,336,   \n",
       "1       NaN         NaN         NaN       NaN  ...  North        77  ,336,   \n",
       "2       NaN         NaN         NaN       NaN  ...  North        77  ,336,   \n",
       "3       NaN         NaN         NaN  0.226875  ...  North        77  ,336,   \n",
       "4       NaN         NaN         NaN       NaN  ...  North        77  ,336,   \n",
       "\n",
       "   Feature  DataCategory  Location                  Description      context  \\\n",
       "0      NaN      activity       NaN  fire spots (non-structured)     activity   \n",
       "1   ,6052,          fill       cut                       burial  burial fill   \n",
       "2   ,3601,          fill       cut                       burial  burial fill   \n",
       "3   ,3600,          fill       cut                       burial  burial fill   \n",
       "4   ,3615,          fill       cut                       burial  burial fill   \n",
       "\n",
       "   contextsubtype  OccPhase  \n",
       "0        activity   B77.1.A  \n",
       "1     burial fill     B77.6  \n",
       "2     burial fill     B77.6  \n",
       "3     burial fill     B77.6  \n",
       "4     burial fill     B77.7  \n",
       "\n",
       "[5 rows x 31 columns]"
      ]
     },
     "execution_count": 80,
     "metadata": {},
     "output_type": "execute_result"
    }
   ],
   "source": [
    "#showing the first five rows \n",
    "df.head()"
   ]
  },
  {
   "cell_type": "markdown",
   "metadata": {},
   "source": [
    "At the first glance, we can see  there are  missing values."
   ]
  },
  {
   "cell_type": "code",
   "execution_count": 81,
   "metadata": {},
   "outputs": [
    {
     "data": {
      "text/plain": [
       "UNIT                 0\n",
       "Sample               0\n",
       "FlotNumber           0\n",
       "GID                  0\n",
       "SumofFlotVolume      0\n",
       "ClayBall           294\n",
       "Figurine           304\n",
       "ClayObject         292\n",
       "ShapedClay         294\n",
       "Pottery            297\n",
       "Stone              278\n",
       "WorkedBone         302\n",
       "WorkedStone        302\n",
       "Beads              271\n",
       "Plant               42\n",
       "Bone                 5\n",
       "Mollusc             37\n",
       "Eggshell           153\n",
       "Obsidian            57\n",
       "Flint              289\n",
       "Mound                0\n",
       "Area                 0\n",
       "Building             0\n",
       "Space                0\n",
       "Feature             89\n",
       "DataCategory         0\n",
       "Location             2\n",
       "Description        111\n",
       "context              0\n",
       "contextsubtype       0\n",
       "OccPhase             9\n",
       "dtype: int64"
      ]
     },
     "execution_count": 81,
     "metadata": {},
     "output_type": "execute_result"
    }
   ],
   "source": [
    "#Finding the number of missing values in each column\n",
    "df.isna().sum()"
   ]
  },
  {
   "cell_type": "markdown",
   "metadata": {},
   "source": [
    "It appears that the missing values (NaN) are the result of some samples not having some material types. For example, Unit 22092 did not have any clay balls, figurines, clay objects, shaped clay or pottery. Information about Feature, Description, LOcation and Occupation Phase is also missing for a number of records, which is fine. For example, not all units belong to a feature, and Location and Description for some Data Categories is never entered (e.g. ). Occupation phase though should exist for each unit. Therefore, these rows will be dropped when considering distribution of material in each occupation phase. "
   ]
  },
  {
   "cell_type": "code",
   "execution_count": 82,
   "metadata": {},
   "outputs": [
    {
     "data": {
      "text/plain": [
       "UNIT                 int64\n",
       "Sample               int64\n",
       "FlotNumber           int64\n",
       "GID                 object\n",
       "SumofFlotVolume    float64\n",
       "ClayBall           float64\n",
       "Figurine           float64\n",
       "ClayObject         float64\n",
       "ShapedClay         float64\n",
       "Pottery            float64\n",
       "Stone              float64\n",
       "WorkedBone         float64\n",
       "WorkedStone        float64\n",
       "Beads              float64\n",
       "Plant              float64\n",
       "Bone               float64\n",
       "Mollusc            float64\n",
       "Eggshell           float64\n",
       "Obsidian           float64\n",
       "Flint              float64\n",
       "Mound               object\n",
       "Area                object\n",
       "Building             int64\n",
       "Space               object\n",
       "Feature             object\n",
       "DataCategory        object\n",
       "Location            object\n",
       "Description         object\n",
       "context             object\n",
       "contextsubtype      object\n",
       "OccPhase            object\n",
       "dtype: object"
      ]
     },
     "execution_count": 82,
     "metadata": {},
     "output_type": "execute_result"
    }
   ],
   "source": [
    "#checking the type of information stored in each column. \n",
    "df.dtypes"
   ]
  },
  {
   "cell_type": "markdown",
   "metadata": {},
   "source": [
    "It appears that the pandas read the file correctly. All numeric values are stored as floats or integeres, whereas other fields represent strings (text)."
   ]
  },
  {
   "cell_type": "code",
   "execution_count": 83,
   "metadata": {},
   "outputs": [
    {
     "data": {
      "text/html": [
       "<div>\n",
       "<style scoped>\n",
       "    .dataframe tbody tr th:only-of-type {\n",
       "        vertical-align: middle;\n",
       "    }\n",
       "\n",
       "    .dataframe tbody tr th {\n",
       "        vertical-align: top;\n",
       "    }\n",
       "\n",
       "    .dataframe thead th {\n",
       "        text-align: right;\n",
       "    }\n",
       "</style>\n",
       "<table border=\"1\" class=\"dataframe\">\n",
       "  <thead>\n",
       "    <tr style=\"text-align: right;\">\n",
       "      <th></th>\n",
       "      <th>UNIT</th>\n",
       "      <th>Sample</th>\n",
       "      <th>FlotNumber</th>\n",
       "      <th>SumofFlotVolume</th>\n",
       "      <th>ClayBall</th>\n",
       "      <th>Figurine</th>\n",
       "      <th>ClayObject</th>\n",
       "      <th>ShapedClay</th>\n",
       "      <th>Pottery</th>\n",
       "      <th>Stone</th>\n",
       "      <th>WorkedBone</th>\n",
       "      <th>WorkedStone</th>\n",
       "      <th>Beads</th>\n",
       "      <th>Plant</th>\n",
       "      <th>Bone</th>\n",
       "      <th>Mollusc</th>\n",
       "      <th>Eggshell</th>\n",
       "      <th>Obsidian</th>\n",
       "      <th>Flint</th>\n",
       "      <th>Building</th>\n",
       "    </tr>\n",
       "  </thead>\n",
       "  <tbody>\n",
       "    <tr>\n",
       "      <th>count</th>\n",
       "      <td>308.000000</td>\n",
       "      <td>308.000000</td>\n",
       "      <td>308.000000</td>\n",
       "      <td>308.000000</td>\n",
       "      <td>14.000000</td>\n",
       "      <td>4.000000</td>\n",
       "      <td>16.000000</td>\n",
       "      <td>14.000000</td>\n",
       "      <td>11.000000</td>\n",
       "      <td>30.000000</td>\n",
       "      <td>6.000000</td>\n",
       "      <td>6.0</td>\n",
       "      <td>37.000000</td>\n",
       "      <td>266.000000</td>\n",
       "      <td>303.000000</td>\n",
       "      <td>271.000000</td>\n",
       "      <td>155.000000</td>\n",
       "      <td>251.000000</td>\n",
       "      <td>19.000000</td>\n",
       "      <td>308.0</td>\n",
       "    </tr>\n",
       "    <tr>\n",
       "      <th>mean</th>\n",
       "      <td>20197.188312</td>\n",
       "      <td>2.025974</td>\n",
       "      <td>9792.642857</td>\n",
       "      <td>17.299675</td>\n",
       "      <td>0.642061</td>\n",
       "      <td>0.053633</td>\n",
       "      <td>0.206102</td>\n",
       "      <td>0.460309</td>\n",
       "      <td>0.122193</td>\n",
       "      <td>0.495469</td>\n",
       "      <td>0.293339</td>\n",
       "      <td>0.0</td>\n",
       "      <td>0.021650</td>\n",
       "      <td>0.339928</td>\n",
       "      <td>1.035441</td>\n",
       "      <td>0.041482</td>\n",
       "      <td>0.010186</td>\n",
       "      <td>0.065659</td>\n",
       "      <td>0.023413</td>\n",
       "      <td>77.0</td>\n",
       "    </tr>\n",
       "    <tr>\n",
       "      <th>std</th>\n",
       "      <td>3402.298414</td>\n",
       "      <td>0.455842</td>\n",
       "      <td>1111.818188</td>\n",
       "      <td>19.401279</td>\n",
       "      <td>0.645235</td>\n",
       "      <td>0.038576</td>\n",
       "      <td>0.228708</td>\n",
       "      <td>0.775415</td>\n",
       "      <td>0.103651</td>\n",
       "      <td>1.396431</td>\n",
       "      <td>0.609772</td>\n",
       "      <td>0.0</td>\n",
       "      <td>0.033203</td>\n",
       "      <td>3.212798</td>\n",
       "      <td>1.846743</td>\n",
       "      <td>0.046206</td>\n",
       "      <td>0.021732</td>\n",
       "      <td>0.453180</td>\n",
       "      <td>0.020665</td>\n",
       "      <td>0.0</td>\n",
       "    </tr>\n",
       "    <tr>\n",
       "      <th>min</th>\n",
       "      <td>16400.000000</td>\n",
       "      <td>1.000000</td>\n",
       "      <td>7897.000000</td>\n",
       "      <td>0.100000</td>\n",
       "      <td>0.016176</td>\n",
       "      <td>0.015938</td>\n",
       "      <td>0.001538</td>\n",
       "      <td>0.002404</td>\n",
       "      <td>0.003974</td>\n",
       "      <td>0.024324</td>\n",
       "      <td>0.011000</td>\n",
       "      <td>0.0</td>\n",
       "      <td>0.000488</td>\n",
       "      <td>0.000455</td>\n",
       "      <td>0.001667</td>\n",
       "      <td>0.001111</td>\n",
       "      <td>0.000286</td>\n",
       "      <td>0.000690</td>\n",
       "      <td>0.002500</td>\n",
       "      <td>77.0</td>\n",
       "    </tr>\n",
       "    <tr>\n",
       "      <th>25%</th>\n",
       "      <td>19006.750000</td>\n",
       "      <td>2.000000</td>\n",
       "      <td>9196.750000</td>\n",
       "      <td>6.000000</td>\n",
       "      <td>0.160268</td>\n",
       "      <td>0.036395</td>\n",
       "      <td>0.031284</td>\n",
       "      <td>0.043393</td>\n",
       "      <td>0.037925</td>\n",
       "      <td>0.088333</td>\n",
       "      <td>0.019966</td>\n",
       "      <td>0.0</td>\n",
       "      <td>0.002273</td>\n",
       "      <td>0.006278</td>\n",
       "      <td>0.174000</td>\n",
       "      <td>0.010000</td>\n",
       "      <td>0.002000</td>\n",
       "      <td>0.010000</td>\n",
       "      <td>0.007636</td>\n",
       "      <td>77.0</td>\n",
       "    </tr>\n",
       "    <tr>\n",
       "      <th>50%</th>\n",
       "      <td>19424.000000</td>\n",
       "      <td>2.000000</td>\n",
       "      <td>9453.500000</td>\n",
       "      <td>13.500000</td>\n",
       "      <td>0.361349</td>\n",
       "      <td>0.045547</td>\n",
       "      <td>0.064688</td>\n",
       "      <td>0.093219</td>\n",
       "      <td>0.085000</td>\n",
       "      <td>0.191129</td>\n",
       "      <td>0.053199</td>\n",
       "      <td>0.0</td>\n",
       "      <td>0.006000</td>\n",
       "      <td>0.017639</td>\n",
       "      <td>0.485000</td>\n",
       "      <td>0.025517</td>\n",
       "      <td>0.004643</td>\n",
       "      <td>0.022857</td>\n",
       "      <td>0.019167</td>\n",
       "      <td>77.0</td>\n",
       "    </tr>\n",
       "    <tr>\n",
       "      <th>75%</th>\n",
       "      <td>21628.750000</td>\n",
       "      <td>2.000000</td>\n",
       "      <td>10945.250000</td>\n",
       "      <td>24.000000</td>\n",
       "      <td>0.994444</td>\n",
       "      <td>0.062784</td>\n",
       "      <td>0.355721</td>\n",
       "      <td>0.343333</td>\n",
       "      <td>0.206750</td>\n",
       "      <td>0.338815</td>\n",
       "      <td>0.086339</td>\n",
       "      <td>0.0</td>\n",
       "      <td>0.030000</td>\n",
       "      <td>0.054018</td>\n",
       "      <td>1.121116</td>\n",
       "      <td>0.055930</td>\n",
       "      <td>0.009167</td>\n",
       "      <td>0.043864</td>\n",
       "      <td>0.026628</td>\n",
       "      <td>77.0</td>\n",
       "    </tr>\n",
       "    <tr>\n",
       "      <th>max</th>\n",
       "      <td>30597.000000</td>\n",
       "      <td>5.000000</td>\n",
       "      <td>11993.000000</td>\n",
       "      <td>156.000000</td>\n",
       "      <td>2.293333</td>\n",
       "      <td>0.107500</td>\n",
       "      <td>0.631250</td>\n",
       "      <td>2.385909</td>\n",
       "      <td>0.303333</td>\n",
       "      <td>7.809091</td>\n",
       "      <td>1.536364</td>\n",
       "      <td>0.0</td>\n",
       "      <td>0.157241</td>\n",
       "      <td>50.714286</td>\n",
       "      <td>15.493125</td>\n",
       "      <td>0.336562</td>\n",
       "      <td>0.165714</td>\n",
       "      <td>7.162000</td>\n",
       "      <td>0.072353</td>\n",
       "      <td>77.0</td>\n",
       "    </tr>\n",
       "  </tbody>\n",
       "</table>\n",
       "</div>"
      ],
      "text/plain": [
       "               UNIT      Sample    FlotNumber  SumofFlotVolume   ClayBall  \\\n",
       "count    308.000000  308.000000    308.000000       308.000000  14.000000   \n",
       "mean   20197.188312    2.025974   9792.642857        17.299675   0.642061   \n",
       "std     3402.298414    0.455842   1111.818188        19.401279   0.645235   \n",
       "min    16400.000000    1.000000   7897.000000         0.100000   0.016176   \n",
       "25%    19006.750000    2.000000   9196.750000         6.000000   0.160268   \n",
       "50%    19424.000000    2.000000   9453.500000        13.500000   0.361349   \n",
       "75%    21628.750000    2.000000  10945.250000        24.000000   0.994444   \n",
       "max    30597.000000    5.000000  11993.000000       156.000000   2.293333   \n",
       "\n",
       "       Figurine  ClayObject  ShapedClay    Pottery      Stone  WorkedBone  \\\n",
       "count  4.000000   16.000000   14.000000  11.000000  30.000000    6.000000   \n",
       "mean   0.053633    0.206102    0.460309   0.122193   0.495469    0.293339   \n",
       "std    0.038576    0.228708    0.775415   0.103651   1.396431    0.609772   \n",
       "min    0.015938    0.001538    0.002404   0.003974   0.024324    0.011000   \n",
       "25%    0.036395    0.031284    0.043393   0.037925   0.088333    0.019966   \n",
       "50%    0.045547    0.064688    0.093219   0.085000   0.191129    0.053199   \n",
       "75%    0.062784    0.355721    0.343333   0.206750   0.338815    0.086339   \n",
       "max    0.107500    0.631250    2.385909   0.303333   7.809091    1.536364   \n",
       "\n",
       "       WorkedStone      Beads       Plant        Bone     Mollusc    Eggshell  \\\n",
       "count          6.0  37.000000  266.000000  303.000000  271.000000  155.000000   \n",
       "mean           0.0   0.021650    0.339928    1.035441    0.041482    0.010186   \n",
       "std            0.0   0.033203    3.212798    1.846743    0.046206    0.021732   \n",
       "min            0.0   0.000488    0.000455    0.001667    0.001111    0.000286   \n",
       "25%            0.0   0.002273    0.006278    0.174000    0.010000    0.002000   \n",
       "50%            0.0   0.006000    0.017639    0.485000    0.025517    0.004643   \n",
       "75%            0.0   0.030000    0.054018    1.121116    0.055930    0.009167   \n",
       "max            0.0   0.157241   50.714286   15.493125    0.336562    0.165714   \n",
       "\n",
       "         Obsidian      Flint  Building  \n",
       "count  251.000000  19.000000     308.0  \n",
       "mean     0.065659   0.023413      77.0  \n",
       "std      0.453180   0.020665       0.0  \n",
       "min      0.000690   0.002500      77.0  \n",
       "25%      0.010000   0.007636      77.0  \n",
       "50%      0.022857   0.019167      77.0  \n",
       "75%      0.043864   0.026628      77.0  \n",
       "max      7.162000   0.072353      77.0  "
      ]
     },
     "execution_count": 83,
     "metadata": {},
     "output_type": "execute_result"
    }
   ],
   "source": [
    "#Describing values in the table\n",
    "df.describe()"
   ]
  },
  {
   "cell_type": "markdown",
   "metadata": {},
   "source": [
    "The summary above gives the basic information about each column, such as, minimum,maximum, median, mean and standard deviation for each column. It shows that the standard deviation is quite high for some values, meaning that the samples are not normally distributed. "
   ]
  },
  {
   "cell_type": "markdown",
   "metadata": {},
   "source": [
    "### 2 Basic information about samples"
   ]
  },
  {
   "cell_type": "code",
   "execution_count": 84,
   "metadata": {},
   "outputs": [
    {
     "data": {
      "text/plain": [
       "fill                            123\n",
       "construction/make-up/packing    104\n",
       "floors (use)                     77\n",
       "cluster                           3\n",
       "activity                          1\n",
       "Name: DataCategory, dtype: int64"
      ]
     },
     "execution_count": 84,
     "metadata": {},
     "output_type": "execute_result"
    }
   ],
   "source": [
    "# Checking number of samples from each context type\n",
    "df['DataCategory'].value_counts()\n"
   ]
  },
  {
   "cell_type": "markdown",
   "metadata": {},
   "source": [
    "Data Category represents the type of context. We can see that construction/make-up/packing (henceforth construction), fill, floors and burial fills are the categories worth exploring. Clusters should never have flotation samples (as they represent group of objects, and as such, they should not have any soil); therefore, this is a mistake. Also, as there is only one sample from the activity deposit, this will be removed as well.  "
   ]
  },
  {
   "cell_type": "code",
   "execution_count": 85,
   "metadata": {},
   "outputs": [],
   "source": [
    "# removing cluster samples\n",
    "df = df[df.DataCategory != 'cluster']\n",
    "df = df[df.DataCategory != 'activity']"
   ]
  },
  {
   "cell_type": "code",
   "execution_count": 86,
   "metadata": {},
   "outputs": [],
   "source": [
    "# renaming construction/make-up/packing \n",
    "df = df.replace('construction/make-up/packing','construction')"
   ]
  },
  {
   "cell_type": "code",
   "execution_count": 87,
   "metadata": {},
   "outputs": [
    {
     "data": {
      "text/plain": [
       "DataCategory\n",
       "construction    1239.4\n",
       "fill            3012.4\n",
       "floors (use)    1006.0\n",
       "Name: SumofFlotVolume, dtype: float64"
      ]
     },
     "execution_count": 87,
     "metadata": {},
     "output_type": "execute_result"
    }
   ],
   "source": [
    "#Finding the total number of litres taken from each context type\n",
    "df.groupby('DataCategory')['SumofFlotVolume'].sum()"
   ]
  },
  {
   "cell_type": "code",
   "execution_count": 88,
   "metadata": {},
   "outputs": [
    {
     "data": {
      "image/png": "[encoded data removed]",
      "text/plain": [
       "<Figure size 432x288 with 1 Axes>"
      ]
     },
     "metadata": {},
     "output_type": "display_data"
    }
   ],
   "source": [
    "# visualising the volumes of each data category\n",
    "sns.boxplot( x=df[\"DataCategory\"], y=df['SumofFlotVolume'] );\n",
    "plt.xticks(rotation=90);\n"
   ]
  },
  {
   "cell_type": "markdown",
   "metadata": {},
   "source": [
    "We see that the fills have higher median volumes than the other two deposit types, and there are a number of samples with a much higher volume. "
   ]
  },
  {
   "cell_type": "markdown",
   "metadata": {},
   "source": [
    "### 3. How often are materials present in samples? "
   ]
  },
  {
   "cell_type": "code",
   "execution_count": 89,
   "metadata": {},
   "outputs": [
    {
     "data": {
      "text/plain": [
       "Bone           299\n",
       "Mollusc        267\n",
       "Plant          262\n",
       "Obsidian       248\n",
       "Eggshell       153\n",
       "Beads           37\n",
       "Stone           30\n",
       "Flint           19\n",
       "ClayObject      15\n",
       "ClayBall        14\n",
       "ShapedClay      13\n",
       "Pottery         11\n",
       "WorkedStone      6\n",
       "WorkedBone       6\n",
       "Figurine         4\n",
       "dtype: int64"
      ]
     },
     "execution_count": 89,
     "metadata": {},
     "output_type": "execute_result"
    }
   ],
   "source": [
    "#retrieving columns with material\n",
    "cols= df.iloc[:, 5:20]\n",
    "cols.columns\n",
    "# Count of samples in which each material is present\n",
    "ubiquity = df[cols.columns].count().sort_values(ascending=False)\n",
    "ubiquity"
   ]
  },
  {
   "cell_type": "code",
   "execution_count": 90,
   "metadata": {},
   "outputs": [
    {
     "data": {
      "text/plain": [
       "''"
      ]
     },
     "execution_count": 90,
     "metadata": {},
     "output_type": "execute_result"
    },
    {
     "data": {
      "image/png": "[encoded data removed]",
      "text/plain": [
       "<Figure size 432x288 with 1 Axes>"
      ]
     },
     "metadata": {},
     "output_type": "display_data"
    }
   ],
   "source": [
    "sns.barplot(x=ubiquity.index, y=ubiquity)\n",
    "plt.xticks(rotation=90)\n",
    ";"
   ]
  },
  {
   "cell_type": "markdown",
   "metadata": {},
   "source": [
    "As shown above, animal bone is the most ubituous material and occurs in almost every sample. Other common materials are plant, mollusc, eggshell and obsidian. Other materials are less frequent and occur in less than 50 samples."
   ]
  },
  {
   "cell_type": "code",
   "execution_count": 91,
   "metadata": {},
   "outputs": [
    {
     "data": {
      "text/html": [
       "<div>\n",
       "<style scoped>\n",
       "    .dataframe tbody tr th:only-of-type {\n",
       "        vertical-align: middle;\n",
       "    }\n",
       "\n",
       "    .dataframe tbody tr th {\n",
       "        vertical-align: top;\n",
       "    }\n",
       "\n",
       "    .dataframe thead th {\n",
       "        text-align: right;\n",
       "    }\n",
       "</style>\n",
       "<table border=\"1\" class=\"dataframe\">\n",
       "  <thead>\n",
       "    <tr style=\"text-align: right;\">\n",
       "      <th></th>\n",
       "      <th>ClayBall</th>\n",
       "      <th>Figurine</th>\n",
       "      <th>ClayObject</th>\n",
       "      <th>ShapedClay</th>\n",
       "      <th>Pottery</th>\n",
       "      <th>Stone</th>\n",
       "      <th>WorkedBone</th>\n",
       "      <th>WorkedStone</th>\n",
       "      <th>Beads</th>\n",
       "      <th>Plant</th>\n",
       "      <th>Bone</th>\n",
       "      <th>Mollusc</th>\n",
       "      <th>Eggshell</th>\n",
       "      <th>Obsidian</th>\n",
       "      <th>Flint</th>\n",
       "    </tr>\n",
       "    <tr>\n",
       "      <th>DataCategory</th>\n",
       "      <th></th>\n",
       "      <th></th>\n",
       "      <th></th>\n",
       "      <th></th>\n",
       "      <th></th>\n",
       "      <th></th>\n",
       "      <th></th>\n",
       "      <th></th>\n",
       "      <th></th>\n",
       "      <th></th>\n",
       "      <th></th>\n",
       "      <th></th>\n",
       "      <th></th>\n",
       "      <th></th>\n",
       "      <th></th>\n",
       "    </tr>\n",
       "  </thead>\n",
       "  <tbody>\n",
       "    <tr>\n",
       "      <th>construction</th>\n",
       "      <td>3.85</td>\n",
       "      <td>0.00</td>\n",
       "      <td>4.81</td>\n",
       "      <td>3.85</td>\n",
       "      <td>0.00</td>\n",
       "      <td>7.69</td>\n",
       "      <td>1.92</td>\n",
       "      <td>1.92</td>\n",
       "      <td>2.88</td>\n",
       "      <td>75.96</td>\n",
       "      <td>96.15</td>\n",
       "      <td>83.65</td>\n",
       "      <td>40.38</td>\n",
       "      <td>71.15</td>\n",
       "      <td>7.69</td>\n",
       "    </tr>\n",
       "    <tr>\n",
       "      <th>fill</th>\n",
       "      <td>5.69</td>\n",
       "      <td>2.44</td>\n",
       "      <td>5.69</td>\n",
       "      <td>7.32</td>\n",
       "      <td>8.13</td>\n",
       "      <td>14.63</td>\n",
       "      <td>3.25</td>\n",
       "      <td>3.25</td>\n",
       "      <td>22.76</td>\n",
       "      <td>93.50</td>\n",
       "      <td>99.19</td>\n",
       "      <td>91.87</td>\n",
       "      <td>62.60</td>\n",
       "      <td>92.68</td>\n",
       "      <td>4.88</td>\n",
       "    </tr>\n",
       "    <tr>\n",
       "      <th>floors (use)</th>\n",
       "      <td>3.90</td>\n",
       "      <td>1.30</td>\n",
       "      <td>3.90</td>\n",
       "      <td>0.00</td>\n",
       "      <td>1.30</td>\n",
       "      <td>5.19</td>\n",
       "      <td>0.00</td>\n",
       "      <td>0.00</td>\n",
       "      <td>7.79</td>\n",
       "      <td>88.31</td>\n",
       "      <td>100.00</td>\n",
       "      <td>87.01</td>\n",
       "      <td>44.16</td>\n",
       "      <td>77.92</td>\n",
       "      <td>6.49</td>\n",
       "    </tr>\n",
       "  </tbody>\n",
       "</table>\n",
       "</div>"
      ],
      "text/plain": [
       "              ClayBall  Figurine  ClayObject  ShapedClay  Pottery  Stone  \\\n",
       "DataCategory                                                               \n",
       "construction      3.85      0.00        4.81        3.85     0.00   7.69   \n",
       "fill              5.69      2.44        5.69        7.32     8.13  14.63   \n",
       "floors (use)      3.90      1.30        3.90        0.00     1.30   5.19   \n",
       "\n",
       "              WorkedBone  WorkedStone  Beads  Plant    Bone  Mollusc  \\\n",
       "DataCategory                                                           \n",
       "construction        1.92         1.92   2.88  75.96   96.15    83.65   \n",
       "fill                3.25         3.25  22.76  93.50   99.19    91.87   \n",
       "floors (use)        0.00         0.00   7.79  88.31  100.00    87.01   \n",
       "\n",
       "              Eggshell  Obsidian  Flint  \n",
       "DataCategory                             \n",
       "construction     40.38     71.15   7.69  \n",
       "fill             62.60     92.68   4.88  \n",
       "floors (use)     44.16     77.92   6.49  "
      ]
     },
     "execution_count": 91,
     "metadata": {},
     "output_type": "execute_result"
    }
   ],
   "source": [
    "# counting number of times a material class exists in a context type\n",
    "presence = df.groupby(['DataCategory'])[cols.columns].count()\n",
    "\n",
    "# adding a column wiht total number of samples from each context\n",
    "presence['samples'] = df.groupby(['DataCategory'])['DataCategory'].count()\n",
    "\n",
    "#calculating percentages\n",
    "for i in cols:\n",
    "        presence[i]=round(presence[i]/presence['samples']*100,2)\n",
    "#dropping the column with number of samples\n",
    "presence = presence.drop(columns='samples')\n",
    "\n",
    "#Showing results\n",
    "presence\n"
   ]
  },
  {
   "cell_type": "markdown",
   "metadata": {},
   "source": [
    "As shown above, animal bone is the most ubituous material and occurs in almost every sample. Other common materials are plant, mollusc, eggshell and obsidian. Other materials are less frequent, though it should be noted that they all seem to occur more commonly  in  fills than in other types of deposits. "
   ]
  },
  {
   "cell_type": "markdown",
   "metadata": {},
   "source": [
    "### 4. What is the density of materials in different context types?"
   ]
  },
  {
   "cell_type": "code",
   "execution_count": 92,
   "metadata": {},
   "outputs": [
    {
     "data": {
      "text/html": [
       "<div>\n",
       "<style scoped>\n",
       "    .dataframe tbody tr th:only-of-type {\n",
       "        vertical-align: middle;\n",
       "    }\n",
       "\n",
       "    .dataframe tbody tr th {\n",
       "        vertical-align: top;\n",
       "    }\n",
       "\n",
       "    .dataframe thead th {\n",
       "        text-align: right;\n",
       "    }\n",
       "</style>\n",
       "<table border=\"1\" class=\"dataframe\">\n",
       "  <thead>\n",
       "    <tr style=\"text-align: right;\">\n",
       "      <th></th>\n",
       "      <th>UNIT</th>\n",
       "      <th>Sample</th>\n",
       "      <th>FlotNumber</th>\n",
       "      <th>GID</th>\n",
       "      <th>SumofFlotVolume</th>\n",
       "      <th>ClayBall</th>\n",
       "      <th>Figurine</th>\n",
       "      <th>ClayObject</th>\n",
       "      <th>ShapedClay</th>\n",
       "      <th>Pottery</th>\n",
       "      <th>...</th>\n",
       "      <th>Area</th>\n",
       "      <th>Building</th>\n",
       "      <th>Space</th>\n",
       "      <th>Feature</th>\n",
       "      <th>DataCategory</th>\n",
       "      <th>Location</th>\n",
       "      <th>Description</th>\n",
       "      <th>context</th>\n",
       "      <th>contextsubtype</th>\n",
       "      <th>OccPhase</th>\n",
       "    </tr>\n",
       "  </thead>\n",
       "  <tbody>\n",
       "    <tr>\n",
       "      <th>1</th>\n",
       "      <td>19008</td>\n",
       "      <td>2</td>\n",
       "      <td>9196</td>\n",
       "      <td>19008.2.9196</td>\n",
       "      <td>20.0</td>\n",
       "      <td>NaN</td>\n",
       "      <td>NaN</td>\n",
       "      <td>NaN</td>\n",
       "      <td>NaN</td>\n",
       "      <td>NaN</td>\n",
       "      <td>...</td>\n",
       "      <td>North</td>\n",
       "      <td>77</td>\n",
       "      <td>,336,</td>\n",
       "      <td>,6052,</td>\n",
       "      <td>fill</td>\n",
       "      <td>cut</td>\n",
       "      <td>burial</td>\n",
       "      <td>burial fill</td>\n",
       "      <td>burial fill</td>\n",
       "      <td>B77.6</td>\n",
       "    </tr>\n",
       "    <tr>\n",
       "      <th>2</th>\n",
       "      <td>19021</td>\n",
       "      <td>2</td>\n",
       "      <td>9222</td>\n",
       "      <td>19021.2.9222</td>\n",
       "      <td>28.0</td>\n",
       "      <td>NaN</td>\n",
       "      <td>NaN</td>\n",
       "      <td>NaN</td>\n",
       "      <td>NaN</td>\n",
       "      <td>NaN</td>\n",
       "      <td>...</td>\n",
       "      <td>North</td>\n",
       "      <td>77</td>\n",
       "      <td>,336,</td>\n",
       "      <td>,3601,</td>\n",
       "      <td>fill</td>\n",
       "      <td>cut</td>\n",
       "      <td>burial</td>\n",
       "      <td>burial fill</td>\n",
       "      <td>burial fill</td>\n",
       "      <td>B77.6</td>\n",
       "    </tr>\n",
       "    <tr>\n",
       "      <th>3</th>\n",
       "      <td>19044</td>\n",
       "      <td>2</td>\n",
       "      <td>9229</td>\n",
       "      <td>19044.2.9229</td>\n",
       "      <td>32.0</td>\n",
       "      <td>NaN</td>\n",
       "      <td>NaN</td>\n",
       "      <td>NaN</td>\n",
       "      <td>NaN</td>\n",
       "      <td>0.226875</td>\n",
       "      <td>...</td>\n",
       "      <td>North</td>\n",
       "      <td>77</td>\n",
       "      <td>,336,</td>\n",
       "      <td>,3600,</td>\n",
       "      <td>fill</td>\n",
       "      <td>cut</td>\n",
       "      <td>burial</td>\n",
       "      <td>burial fill</td>\n",
       "      <td>burial fill</td>\n",
       "      <td>B77.6</td>\n",
       "    </tr>\n",
       "    <tr>\n",
       "      <th>4</th>\n",
       "      <td>19295</td>\n",
       "      <td>2</td>\n",
       "      <td>9520</td>\n",
       "      <td>19295.2.9520</td>\n",
       "      <td>36.0</td>\n",
       "      <td>NaN</td>\n",
       "      <td>NaN</td>\n",
       "      <td>NaN</td>\n",
       "      <td>NaN</td>\n",
       "      <td>NaN</td>\n",
       "      <td>...</td>\n",
       "      <td>North</td>\n",
       "      <td>77</td>\n",
       "      <td>,336,</td>\n",
       "      <td>,3615,</td>\n",
       "      <td>fill</td>\n",
       "      <td>cut</td>\n",
       "      <td>burial</td>\n",
       "      <td>burial fill</td>\n",
       "      <td>burial fill</td>\n",
       "      <td>B77.7</td>\n",
       "    </tr>\n",
       "    <tr>\n",
       "      <th>5</th>\n",
       "      <td>19471</td>\n",
       "      <td>5</td>\n",
       "      <td>9762</td>\n",
       "      <td>19471.5.9762</td>\n",
       "      <td>5.0</td>\n",
       "      <td>NaN</td>\n",
       "      <td>NaN</td>\n",
       "      <td>NaN</td>\n",
       "      <td>NaN</td>\n",
       "      <td>NaN</td>\n",
       "      <td>...</td>\n",
       "      <td>North</td>\n",
       "      <td>77</td>\n",
       "      <td>,336,</td>\n",
       "      <td>,3642,</td>\n",
       "      <td>fill</td>\n",
       "      <td>cut</td>\n",
       "      <td>burial</td>\n",
       "      <td>burial fill</td>\n",
       "      <td>burial fill</td>\n",
       "      <td>B77.5</td>\n",
       "    </tr>\n",
       "  </tbody>\n",
       "</table>\n",
       "<p>5 rows × 31 columns</p>\n",
       "</div>"
      ],
      "text/plain": [
       "    UNIT  Sample  FlotNumber           GID  SumofFlotVolume  ClayBall  \\\n",
       "1  19008       2        9196  19008.2.9196             20.0       NaN   \n",
       "2  19021       2        9222  19021.2.9222             28.0       NaN   \n",
       "3  19044       2        9229  19044.2.9229             32.0       NaN   \n",
       "4  19295       2        9520  19295.2.9520             36.0       NaN   \n",
       "5  19471       5        9762  19471.5.9762              5.0       NaN   \n",
       "\n",
       "   Figurine  ClayObject  ShapedClay   Pottery  ...   Area  Building  Space  \\\n",
       "1       NaN         NaN         NaN       NaN  ...  North        77  ,336,   \n",
       "2       NaN         NaN         NaN       NaN  ...  North        77  ,336,   \n",
       "3       NaN         NaN         NaN  0.226875  ...  North        77  ,336,   \n",
       "4       NaN         NaN         NaN       NaN  ...  North        77  ,336,   \n",
       "5       NaN         NaN         NaN       NaN  ...  North        77  ,336,   \n",
       "\n",
       "   Feature  DataCategory  Location  Description      context  contextsubtype  \\\n",
       "1   ,6052,          fill       cut       burial  burial fill     burial fill   \n",
       "2   ,3601,          fill       cut       burial  burial fill     burial fill   \n",
       "3   ,3600,          fill       cut       burial  burial fill     burial fill   \n",
       "4   ,3615,          fill       cut       burial  burial fill     burial fill   \n",
       "5   ,3642,          fill       cut       burial  burial fill     burial fill   \n",
       "\n",
       "   OccPhase  \n",
       "1     B77.6  \n",
       "2     B77.6  \n",
       "3     B77.6  \n",
       "4     B77.7  \n",
       "5     B77.5  \n",
       "\n",
       "[5 rows x 31 columns]"
      ]
     },
     "execution_count": 92,
     "metadata": {},
     "output_type": "execute_result"
    }
   ],
   "source": [
    "df.head()"
   ]
  },
  {
   "cell_type": "code",
   "execution_count": 93,
   "metadata": {},
   "outputs": [],
   "source": [
    "# Replacing missing valuse with 0\n",
    "df2 = df.copy()\n",
    "df2 =df2.fillna(0)"
   ]
  },
  {
   "cell_type": "code",
   "execution_count": 94,
   "metadata": {},
   "outputs": [
    {
     "data": {
      "image/png": "[encoded data removed]",
      "text/plain": [
       "<Figure size 1440x360 with 4 Axes>"
      ]
     },
     "metadata": {},
     "output_type": "display_data"
    }
   ],
   "source": [
    "fix, ax = plt.subplots(nrows=1, ncols=4, figsize= (20,5))\n",
    "\n",
    "sns.boxplot(df2[\"DataCategory\"], df2['Bone'],\n",
    "             ax=ax[0]);\n",
    "ax[0].set_title(\"Bone Density\", fontweight='bold');\n",
    "\n",
    "sns.boxplot(df2[\"DataCategory\"], df2['Obsidian'],\n",
    "             ax=ax[1]);\n",
    "ax[1].set_title(\"Obsidian Density\", fontweight='bold');\n",
    "\n",
    "sns.boxplot(df2[\"DataCategory\"], df2['Mollusc'],\n",
    "             ax=ax[2]);\n",
    "ax[2].set_title(\"Mollusc Density\", fontweight='bold');\n",
    "\n",
    "sns.boxplot(df2[\"DataCategory\"], df2['Eggshell'],\n",
    "             ax=ax[3]);\n",
    "ax[3].set_title(\"Eggshell Density\", fontweight='bold');\n"
   ]
  },
  {
   "cell_type": "markdown",
   "metadata": {},
   "source": [
    "As the values are normally distributed, there are a lot of outliers. \n",
    "Nevertheless, it is clear that all frequent materials have a higher density in burial fills than they do in other types of deposits. This points to the need for further examination of materials in burial fills, and their common interpretation in archaeology as accidental inclusions (rather than deliberate placement). "
   ]
  },
  {
   "cell_type": "code",
   "execution_count": 95,
   "metadata": {},
   "outputs": [
    {
     "data": {
      "text/plain": [
       "''"
      ]
     },
     "execution_count": 95,
     "metadata": {},
     "output_type": "execute_result"
    },
    {
     "data": {
      "image/png": "[encoded data removed]",
      "text/plain": [
       "<Figure size 432x288 with 1 Axes>"
      ]
     },
     "metadata": {},
     "output_type": "display_data"
    }
   ],
   "source": [
    "# showing distribution of bone\n",
    "\n",
    "fig, ax = plt.subplots()\n",
    "\n",
    "ax1 = df2['Bone'].hist(bins=10)\n",
    "ax1.set_title(\"Histogram of Bone Density\", fontweight='bold');\n",
    "ax1.set_xlabel('Bone Density')\n",
    "ax1.set_ylabel('Number of Samples')\n",
    ";"
   ]
  },
  {
   "cell_type": "markdown",
   "metadata": {},
   "source": [
    "We can also normalize the data by using Log10 transformation. However in this case, samples that contain no material will be excluded,as Log10 does not exist for 0."
   ]
  },
  {
   "cell_type": "code",
   "execution_count": 96,
   "metadata": {},
   "outputs": [
    {
     "data": {
      "image/png": "[encoded data removed]",
      "text/plain": [
       "<Figure size 1152x432 with 2 Axes>"
      ]
     },
     "metadata": {},
     "output_type": "display_data"
    }
   ],
   "source": [
    "#comparing all fills\n",
    "\n",
    "fills = df2.loc[df2['DataCategory']=='fill']\n",
    "\n",
    "#plotting densities of Bone and obsidian \n",
    "\n",
    "fig, ax = plt.subplots(nrows=1, ncols=2, figsize = (16,6))\n",
    "\n",
    "sns.barplot(fills[\"contextsubtype\"], fills['Bone'],\n",
    "             ax=ax[0], ci=None);\n",
    "plt.xticks(rotation=90);\n",
    "ax[0].set_title(\"Bone Density\", fontweight='bold');\n",
    "plt.xticks(rotation=90)\n",
    "\n",
    "sns.barplot(fills[\"contextsubtype\"], fills['Obsidian'],\n",
    "             ax=ax[1], ci=None);\n",
    "ax[1].set_title(\"Obsidian Density\", fontweight='bold');\n",
    "\n",
    "for a in ax:\n",
    "    plt.sca(a)\n",
    "    plt.xticks(rotation=90)\n",
    "\n"
   ]
  },
  {
   "cell_type": "code",
   "execution_count": 97,
   "metadata": {},
   "outputs": [
    {
     "data": {
      "image/png": "[encoded data removed]",
      "text/plain": [
       "<Figure size 1152x432 with 2 Axes>"
      ]
     },
     "metadata": {},
     "output_type": "display_data"
    }
   ],
   "source": [
    "#plotting densities of Mollusc and Eggshell\n",
    "\n",
    "fig, ax = plt.subplots(nrows=1, ncols=2, figsize = (16,6))\n",
    "\n",
    "sns.barplot(fills[\"contextsubtype\"], fills['Mollusc'],\n",
    "             ax=ax[0], ci=None);\n",
    "plt.xticks(rotation=90);\n",
    "ax[0].set_title(\"Mollusc Density\", fontweight='bold');\n",
    "plt.xticks(rotation=90)\n",
    "\n",
    "sns.barplot(fills[\"contextsubtype\"], fills['Eggshell'],\n",
    "             ax=ax[1], ci=None);\n",
    "ax[1].set_title(\"Eggshell\", fontweight='bold');\n",
    "\n",
    "for a in ax:\n",
    "    plt.sca(a)\n",
    "    plt.xticks(rotation=90)"
   ]
  },
  {
   "cell_type": "code",
   "execution_count": 98,
   "metadata": {},
   "outputs": [
    {
     "data": {
      "image/png": "[encoded data removed]",
      "text/plain": [
       "<Figure size 432x288 with 1 Axes>"
      ]
     },
     "metadata": {},
     "output_type": "display_data"
    }
   ],
   "source": [
    "#Plotting density of beads\n",
    "\n",
    "ax= sns.barplot(fills[\"contextsubtype\"], fills['Beads'],\n",
    "             ci=None)\n",
    "plt.xticks(rotation=90);\n",
    "ax.set_title(\"Density of beads\", fontweight='bold');"
   ]
  },
  {
   "cell_type": "markdown",
   "metadata": {},
   "source": [
    "df['Obsidian_Log10'] = round(np.log10(df['Obsidian']),2)\n",
    "df.head(20)\n",
    "post = df.loc[df['context subtype'] == 'fill posthole/stakehole']\n",
    "\n",
    "post['Bone']"
   ]
  }
 ],
 "metadata": {
  "kernelspec": {
   "display_name": "Python 3",
   "language": "python",
   "name": "python3"
  },
  "language_info": {
   "codemirror_mode": {
    "name": "ipython",
    "version": 3
   },
   "file_extension": ".py",
   "mimetype": "text/x-python",
   "name": "python",
   "nbconvert_exporter": "python",
   "pygments_lexer": "ipython3",
   "version": "3.8.3"
  }
 },
 "nbformat": 4,
 "nbformat_minor": 4
}
